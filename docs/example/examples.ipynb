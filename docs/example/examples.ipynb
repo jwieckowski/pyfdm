{
 "cells": [
  {
   "cell_type": "code",
   "execution_count": 160,
   "metadata": {},
   "outputs": [],
   "source": [
    "import numpy as np\n",
    "from tabulate import tabulate\n",
    "\n",
    "from pyfdm import methods\n",
    "from pyfdm.methods import utils\n",
    "from pyfdm.TFN import TFN\n",
    "from pyfdm.graphs import single_tfn_plot, tfn_membership_plot, tfn_criteria_plot, s_norm_tfn_plot\n",
    "from pyfdm import weights as f_weights\n",
    "from pyfdm import correlations as corrs\n",
    "from pyfdm.helpers import rank, generate_fuzzy_matrix\n",
    "\n",
    "import warnings\n",
    "\n",
    "warnings.filterwarnings('ignore')\n",
    "np.set_printoptions(suppress=True, precision=3)"
   ]
  },
  {
   "cell_type": "markdown",
   "metadata": {},
   "source": [
    "# Input data\n",
    "\n",
    "To perform the multi-criteria evaluation, the decision matrix needs to be defined. It can be determined based on the real data, or created with the method provided in the library."
   ]
  },
  {
   "cell_type": "code",
   "execution_count": 161,
   "metadata": {},
   "outputs": [
    {
     "data": {
      "text/plain": [
       "array([[[6.86 , 7.668, 8.874],\n",
       "        [6.24 , 7.576, 8.856],\n",
       "        [7.406, 7.491, 8.739],\n",
       "        [6.042, 9.201, 9.594]],\n",
       "\n",
       "       [[8.548, 9.743, 9.826],\n",
       "        [5.898, 8.25 , 9.78 ],\n",
       "        [5.321, 5.875, 7.233],\n",
       "        [7.737, 7.988, 9.468]],\n",
       "\n",
       "       [[7.284, 8.336, 9.148],\n",
       "        [7.38 , 8.961, 9.485],\n",
       "        [5.186, 6.063, 7.842],\n",
       "        [5.742, 6.829, 7.196]],\n",
       "\n",
       "       [[8.019, 8.117, 8.684],\n",
       "        [5.558, 7.964, 8.283],\n",
       "        [5.042, 7.974, 8.843],\n",
       "        [6.167, 6.635, 8.55 ]],\n",
       "\n",
       "       [[5.821, 5.869, 7.805],\n",
       "        [5.095, 5.492, 7.695],\n",
       "        [7.633, 8.037, 9.974],\n",
       "        [7.281, 7.351, 8.37 ]]])"
      ]
     },
     "execution_count": 161,
     "metadata": {},
     "output_type": "execute_result"
    }
   ],
   "source": [
    "# real data matrix\n",
    "real_matrix = np.array([\n",
    "    [[5, 7, 9], [5, 7, 9], [7, 9, 9]],\n",
    "    [[1, 3, 5], [3, 5, 7], [3, 5, 7]],\n",
    "    [[1, 1, 3], [1, 3, 5], [1, 3, 5]],\n",
    "    [[7, 9, 9], [7, 9, 9], [7, 9, 9]]\n",
    "])\n",
    "\n",
    "# randomly generated matrix\n",
    "# 5 alternatives\n",
    "# 4 criteria\n",
    "# lower bound = 5\n",
    "# upper bound = 10\n",
    "random_matrix = generate_fuzzy_matrix(5, 4, 5, 10)\n",
    "random_matrix"
   ]
  },
  {
   "cell_type": "markdown",
   "metadata": {},
   "source": [
    "# Normalization\n",
    "\n",
    "Data normalization allows for comparing numbers with each other. It converts the range of values that they fit in range between 0 and 1. Below the usage examples of methods implemented in the library. Types parameter is responsible for the direction of the normalization. One columns' values could be more preferred is the values are lower (`-1`), other one could be more preferred if the values are greater (`1`)."
   ]
  },
  {
   "cell_type": "code",
   "execution_count": 162,
   "metadata": {},
   "outputs": [
    {
     "name": "stdout",
     "output_type": "stream",
     "text": [
      "COCOSO \n",
      " [[[0.5  0.75 1.  ]\n",
      "  [0.   0.25 0.5 ]\n",
      "  [0.75 1.   1.  ]]\n",
      "\n",
      " [[0.   0.25 0.5 ]\n",
      "  [0.25 0.5  0.75]\n",
      "  [0.25 0.5  0.75]]]\n",
      "Sum \n",
      " [[[0.167 0.269 0.5  ]\n",
      "  [0.354 0.181 0.066]\n",
      "  [0.269 0.45  0.643]]\n",
      "\n",
      " [[0.033 0.115 0.278]\n",
      "  [0.59  0.254 0.085]\n",
      "  [0.115 0.25  0.5  ]]]\n",
      "Max \n",
      " [[[0.714 0.778 1.   ]\n",
      "  [0.286 0.222 0.   ]\n",
      "  [1.    1.    1.   ]]\n",
      "\n",
      " [[0.143 0.333 0.556]\n",
      "  [0.571 0.444 0.222]\n",
      "  [0.429 0.556 0.778]]]\n",
      "Linear \n",
      " [[[0.556 0.778 1.   ]\n",
      "  [0.111 0.143 0.2  ]\n",
      "  [0.778 1.    1.   ]]\n",
      "\n",
      " [[0.111 0.333 0.556]\n",
      "  [0.143 0.2   0.333]\n",
      "  [0.333 0.556 0.778]]]\n",
      "Minmax \n",
      " [[[ 0.5   0.75  1.  ]\n",
      "  [-0.    0.25  0.5 ]\n",
      "  [ 0.75  1.    1.  ]]\n",
      "\n",
      " [[ 0.    0.25  0.5 ]\n",
      "  [ 0.25  0.5   0.75]\n",
      "  [ 0.25  0.5   0.75]]]\n",
      "Vector \n",
      " [[[0.246 0.345 0.443]\n",
      "  [0.227 0.318 0.409]\n",
      "  [0.301 0.387 0.387]]\n",
      "\n",
      " [[0.049 0.148 0.246]\n",
      "  [0.136 0.227 0.318]\n",
      "  [0.129 0.215 0.301]]]\n",
      "SAW \n",
      " [[[0.556 0.778 1.   ]\n",
      "  [0.556 0.778 1.   ]\n",
      "  [0.778 1.    1.   ]]\n",
      "\n",
      " [[0.111 0.333 0.556]\n",
      "  [0.333 0.556 0.778]\n",
      "  [0.333 0.556 0.778]]]\n",
      "SQRT \n",
      " [[[0.427 0.597 0.768]\n",
      "  [0.394 0.551 0.709]\n",
      "  [0.522 0.671 0.671]]\n",
      "\n",
      " [[0.085 0.256 0.427]\n",
      "  [0.236 0.394 0.551]\n",
      "  [0.224 0.373 0.522]]]\n",
      "WASPAS \n",
      " [[[0.556 0.778 1.   ]\n",
      "  [0.2   0.143 0.111]\n",
      "  [0.778 1.    1.   ]]\n",
      "\n",
      " [[0.111 0.333 0.556]\n",
      "  [0.333 0.2   0.143]\n",
      "  [0.333 0.556 0.778]]]\n"
     ]
    }
   ],
   "source": [
    "normalizations = {\n",
    "    'COCOSO': utils.normalizations.cocoso_normalization,\n",
    "    'Sum': utils.normalizations.sum_normalization,\n",
    "    'Max': utils.normalizations.max_normalization,\n",
    "    'Linear': utils.normalizations.linear_normalization,\n",
    "    'Minmax': utils.normalizations.minmax_normalization,\n",
    "    'Vector': utils.normalizations.vector_normalization,\n",
    "    'SAW': utils.normalizations.saw_normalization,\n",
    "    'SQRT': utils.normalizations.sqrt_normalization,\n",
    "    'WASPAS': utils.normalizations.waspas_normalization,\n",
    "}\n",
    "\n",
    "types = np.array([1, -1, 1])\n",
    "\n",
    "for name, norm in normalizations.items():\n",
    "    nmatrix = norm(real_matrix, types)\n",
    "    print(f'{name} \\n {nmatrix[:2]}')"
   ]
  },
  {
   "cell_type": "markdown",
   "metadata": {},
   "source": [
    "# Distance\n",
    "\n",
    "Distance is a measure that allows for indicating how far are two Triangular Fuzzy Numbers from each other. Different techniques have been developed to this end. The measures implemented in the library and their usage are presented below."
   ]
  },
  {
   "cell_type": "code",
   "execution_count": 163,
   "metadata": {},
   "outputs": [
    {
     "name": "stdout",
     "output_type": "stream",
     "text": [
      "Euclidean: 3.0\n",
      "Weighted Euclidean: 1.8027756377319946\n",
      "Hamming: 5\n",
      "Weighted Hamming: 1.75\n",
      "Vertex: 1.7320508075688772\n",
      "Tran-Duckstein: 6.444444444444445\n",
      "L-R: 15.25\n",
      "Mahdavi: 1.7795130420052185\n",
      "Chebyshev: 2\n",
      "Canberra: 0.9166666666666666\n"
     ]
    }
   ],
   "source": [
    "distances = {\n",
    "    'Euclidean': utils.distances.euclidean_distance,\n",
    "    'Weighted Euclidean': utils.distances.weighted_euclidean_distance,\n",
    "    'Hamming': utils.distances.hamming_distance,\n",
    "    'Weighted Hamming': utils.distances.weighted_hamming_distance,\n",
    "    'Vertex': utils.distances.vertex_distance,\n",
    "    'Tran-Duckstein': utils.distances.tran_duckstein_distance,\n",
    "    'L-R': utils.distances.lr_distance,\n",
    "    'Mahdavi': utils.distances.mahdavi_distance,\n",
    "    'Chebyshev': utils.distances.chebyshev_distance,\n",
    "    'Canberra': utils.distances.canberra_distance,\n",
    "}\n",
    "\n",
    "x = np.array([2, 4, 5])\n",
    "y = np.array([1, 2, 3])\n",
    "\n",
    "for name, distance in distances.items():\n",
    "    d = distance(x, y)\n",
    "    print(f'{name}: {d}')"
   ]
  },
  {
   "cell_type": "markdown",
   "metadata": {},
   "source": [
    "# Defuzzification\n",
    "\n",
    "To create a crisp ranking from the calculations performed in fuzzy environment, the obtained results should be defuzzified. Different techniques can be used to achieve this. The implemented methods and the example of their usage are presented below."
   ]
  },
  {
   "cell_type": "code",
   "execution_count": 164,
   "metadata": {},
   "outputs": [
    {
     "name": "stdout",
     "output_type": "stream",
     "text": [
      "Mean: 0.6166666666666667\n",
      "Mean Area: 0.6000000000000001\n",
      "Graded Mean Average: 0.5833333333333334\n",
      "Weighted Mean: 0.6000000000000001\n",
      "Bisector: 0.65\n",
      "Height: 0.55\n",
      "LOM: 1.1\n",
      "SOM: 0.2\n"
     ]
    }
   ],
   "source": [
    "defuzzifications = {\n",
    "    'Mean': utils.defuzzifications.mean_defuzzification,\n",
    "    'Mean Area': utils.defuzzifications.mean_area_defuzzification,\n",
    "    'Graded Mean Average': utils.defuzzifications.graded_mean_average_defuzzification,\n",
    "    'Weighted Mean': utils.defuzzifications.weighted_mean_defuzzification,\n",
    "    'Bisector': utils.defuzzifications.bisector_defuzzification,                                                                                         \n",
    "    'Height': utils.defuzzifications.height_defuzzification,                                                                                         \n",
    "    'LOM': utils.defuzzifications.lom_defuzzification,                                                                                         \n",
    "    'SOM': utils.defuzzifications.som_defuzzification,                                                                                         \n",
    "}\n",
    "\n",
    "x = np.array([0.2, 0.55, 1.1])\n",
    "\n",
    "for name, defuzzy in defuzzifications.items():\n",
    "    d = defuzzy(x)\n",
    "    print(f'{name}: {d}')"
   ]
  },
  {
   "cell_type": "markdown",
   "metadata": {},
   "source": [
    "# Weights\n",
    "\n",
    "Criteria weights in multi-criteria problems are responsible for the importance of each parameter taken into consideration. The greater value assigned to the given criterion, the more important it will be in the assessment. For the purpose of weights definition, 4 methods from the library can be used. They are based on the statistical approach, which makes it possible to define the weights objectively, relying only on data diversity."
   ]
  },
  {
   "cell_type": "code",
   "execution_count": 165,
   "metadata": {},
   "outputs": [
    {
     "name": "stdout",
     "output_type": "stream",
     "text": [
      "Equal \n",
      " [[0.25 0.25 0.25]\n",
      " [0.25 0.25 0.25]\n",
      " [0.25 0.25 0.25]\n",
      " [0.25 0.25 0.25]]\n",
      "Shannon Entropy \n",
      " [[0.296 0.268 0.256]\n",
      " [0.222 0.254 0.254]\n",
      " [0.228 0.227 0.243]\n",
      " [0.254 0.251 0.247]]\n",
      "STD \n",
      " [[0.259 0.292 0.204]\n",
      " [0.212 0.273 0.237]\n",
      " [0.316 0.218 0.29 ]\n",
      " [0.212 0.217 0.269]]\n",
      "Variance \n",
      " [[0.261 0.335 0.163]\n",
      " [0.175 0.293 0.221]\n",
      " [0.388 0.187 0.331]\n",
      " [0.175 0.185 0.285]]\n"
     ]
    }
   ],
   "source": [
    "weights_methods = {\n",
    "    'Equal': f_weights.equal_weights,\n",
    "    'Shannon Entropy' : f_weights.shannon_entropy_weights,\n",
    "    'STD': f_weights.standard_deviation_weights,\n",
    "    'Variance': f_weights.variance_weights\n",
    "}\n",
    "\n",
    "for name, method in weights_methods.items():\n",
    "    w = method(random_matrix)\n",
    "    print(f'{name} \\n {w}')"
   ]
  },
  {
   "cell_type": "markdown",
   "metadata": {},
   "source": [
    "# Evaluation \n",
    "\n",
    "Different techniques from the group of Fuzzy Multi-Criteria Decision Analysis methods based on the Triangular Fuzzy Numbers can be used to assess the alternatives. The library contains 10 methods which can be used for this purpose. The examples of their application are presented below."
   ]
  },
  {
   "cell_type": "markdown",
   "metadata": {},
   "source": [
    "## Decision matrix\n",
    "\n",
    "Decision matrix represents the alternatives taken into consideration in the problem. Rows represent amount of alternatives, when columns describes the amount of criteria in the given problem. In the case presented below, we have 4 alternatives and 3 criteria. Moreover, all elements in the matrix should be represent as the Triangular Fuzzy Number."
   ]
  },
  {
   "cell_type": "code",
   "execution_count": 166,
   "metadata": {},
   "outputs": [],
   "source": [
    "matrix = np.array([\n",
    "    [[3, 4, 5],[4, 5, 6],[8, 9, 9]],\n",
    "    [[6, 7, 8],[4, 5, 6],[1, 2, 3]],\n",
    "    [[5, 6, 7],[2, 3, 4],[3, 4, 5]],\n",
    "    [[5, 6, 8],[2, 3, 4],[2, 3, 4]],\n",
    "    [[7, 8, 9],[7, 8, 9],[5, 6, 7]],\n",
    "])\n"
   ]
  },
  {
   "cell_type": "markdown",
   "metadata": {},
   "source": [
    "## Weights\n",
    "\n",
    "Weights can be defined objectively, as shown above with the given examples. However, the weights can be also defined directly based on expert knowledge. The library is implemented in a way to handle both crisp and fuzzy weights. Amount of weights should equal the criteria amount. They can be determined as follow."
   ]
  },
  {
   "cell_type": "markdown",
   "metadata": {},
   "source": [
    "### Example 1\n",
    "Crisp weights"
   ]
  },
  {
   "cell_type": "code",
   "execution_count": 167,
   "metadata": {},
   "outputs": [],
   "source": [
    "crisp_weights = np.array([0.4, 0.4, 0.2])"
   ]
  },
  {
   "cell_type": "markdown",
   "metadata": {},
   "source": [
    "### Example 2\n",
    "Triangular Fuzzy Weights"
   ]
  },
  {
   "cell_type": "code",
   "execution_count": 168,
   "metadata": {},
   "outputs": [],
   "source": [
    "fuzzy_weights = np.array([[5, 7, 9], [7, 9, 9], [3, 5, 7]])\n"
   ]
  },
  {
   "cell_type": "markdown",
   "metadata": {},
   "source": [
    "## Criteria \n",
    "\n",
    "Criteria types are ment to reflect the direction of the values that is preferable in the problem. If the values for given criterion should be as big as possible, it is then a profit type and represent as `1` in the criteria types array. If the values should be as low as possible, it is then cost and should be represent as `-1` in the array. Moreover, the criteria types amount should equal amount of criteria in the decision matrix."
   ]
  },
  {
   "cell_type": "code",
   "execution_count": 169,
   "metadata": {},
   "outputs": [],
   "source": [
    "types = np.array([1, -1, 1])"
   ]
  },
  {
   "cell_type": "markdown",
   "metadata": {},
   "source": [
    "## Fuzzy ARAS"
   ]
  },
  {
   "cell_type": "code",
   "execution_count": 170,
   "metadata": {},
   "outputs": [],
   "source": [
    "f_aras = methods.fARAS()"
   ]
  },
  {
   "cell_type": "markdown",
   "metadata": {},
   "source": [
    "Fuzzy ARAS evaluation results with crisp and fuzzy weights  "
   ]
  },
  {
   "cell_type": "code",
   "execution_count": 171,
   "metadata": {},
   "outputs": [
    {
     "name": "stdout",
     "output_type": "stream",
     "text": [
      "Crisp weights: [0.835 0.856 1.114 1.113 0.893]\n",
      "Fuzzy weights: [0.879 0.834 1.103 1.097 0.896]\n"
     ]
    }
   ],
   "source": [
    "print(f'Crisp weights: {f_aras(matrix, crisp_weights, types)}')\n",
    "print(f'Fuzzy weights: {f_aras(matrix, fuzzy_weights, types)}')"
   ]
  },
  {
   "cell_type": "markdown",
   "metadata": {},
   "source": [
    "The ranking based on the obtained preferences can be calculated directly from the fARAS object."
   ]
  },
  {
   "cell_type": "code",
   "execution_count": 172,
   "metadata": {},
   "outputs": [
    {
     "data": {
      "text/plain": [
       "array([4., 5., 1., 2., 3.])"
      ]
     },
     "execution_count": 172,
     "metadata": {},
     "output_type": "execute_result"
    }
   ],
   "source": [
    "f_aras.rank()"
   ]
  },
  {
   "cell_type": "markdown",
   "metadata": {},
   "source": [
    "Or with the `rank` method."
   ]
  },
  {
   "cell_type": "code",
   "execution_count": 173,
   "metadata": {},
   "outputs": [
    {
     "data": {
      "text/plain": [
       "array([4., 5., 1., 2., 3.])"
      ]
     },
     "execution_count": 173,
     "metadata": {},
     "output_type": "execute_result"
    }
   ],
   "source": [
    "rank(f_aras(matrix, fuzzy_weights, types))"
   ]
  },
  {
   "cell_type": "markdown",
   "metadata": {},
   "source": [
    "We can also use ARAS method with different normalizations. Default, it is a `sum_normalization`."
   ]
  },
  {
   "cell_type": "code",
   "execution_count": 174,
   "metadata": {},
   "outputs": [],
   "source": [
    "aras = {\n",
    "    'Sum': methods.fARAS(utils.normalizations.sum_normalization),\n",
    "    'Max': methods.fARAS(utils.normalizations.max_normalization),\n",
    "    'Linear': methods.fARAS(utils.normalizations.linear_normalization),\n",
    "    'Minmax': methods.fARAS(utils.normalizations.minmax_normalization),\n",
    "    'Vector': methods.fARAS(utils.normalizations.vector_normalization),\n",
    "    'SAW': methods.fARAS(utils.normalizations.saw_normalization)\n",
    "}"
   ]
  },
  {
   "cell_type": "markdown",
   "metadata": {},
   "source": [
    "For every normalization technique, we can perform assessment to obtain results and check if the type of normalization impacts the outcome."
   ]
  },
  {
   "cell_type": "code",
   "execution_count": 175,
   "metadata": {},
   "outputs": [],
   "source": [
    "results = {}\n",
    "for name, function in aras.items():\n",
    "    results[name] = function(matrix, fuzzy_weights, types)"
   ]
  },
  {
   "cell_type": "code",
   "execution_count": 176,
   "metadata": {},
   "outputs": [
    {
     "name": "stdout",
     "output_type": "stream",
     "text": [
      "Method      A1    A2    A3    A4    A5\n",
      "--------  ----  ----  ----  ----  ----\n",
      "Sum       0.88  0.83  1.1   1.1   0.9\n",
      "Max       0.98  0.87  1.06  1.04  0.89\n",
      "Linear    0.84  0.75  0.96  0.95  0.86\n",
      "Minmax    0.93  0.88  1.08  1.07  0.89\n",
      "Vector    0.64  0.56  0.48  0.47  0.85\n",
      "SAW       0.63  0.57  0.49  0.48  0.85\n"
     ]
    }
   ],
   "source": [
    "print(tabulate([[name, *np.round(pref, 2)] for name, pref in results.items()],\n",
    "    headers=['Method'] + [f'A{i+1}' for i in range(10)]))"
   ]
  },
  {
   "cell_type": "markdown",
   "metadata": {},
   "source": [
    "We can see that different preferences are obtained with different normalizations. To check if the alternatives are ranked at the same place despite used normalization method, we can use the method from the library called `rank` which calculates ascending or descending position order based on given array. Since the ARAS method assess better alternatives with higher values, the order should be descending. "
   ]
  },
  {
   "cell_type": "code",
   "execution_count": 177,
   "metadata": {},
   "outputs": [
    {
     "name": "stdout",
     "output_type": "stream",
     "text": [
      "Method      A1    A2    A3    A4    A5\n",
      "--------  ----  ----  ----  ----  ----\n",
      "Sum          4     5     1     2     3\n",
      "Max          3     5     1     2     4\n",
      "Linear       4     5     1     2     3\n",
      "Minmax       3     5     1     2     4\n",
      "Vector       2     3     4     5     1\n",
      "SAW          2     3     4     5     1\n"
     ]
    }
   ],
   "source": [
    "print(tabulate([[name, *rank(pref, descending=True)] for name, pref in results.items()], \n",
    "    headers=['Method'] + [f'A{i+1}' for i in range(10)]))"
   ]
  },
  {
   "cell_type": "markdown",
   "metadata": {},
   "source": [
    "It can be seen, that the ranking of alternatives is different for different normalization techniques. So the user should bear in mind that different methods can have impact the final result obtained within selected evaluation method."
   ]
  },
  {
   "cell_type": "markdown",
   "metadata": {},
   "source": [
    "## Fuzzy COCOSO"
   ]
  },
  {
   "cell_type": "code",
   "execution_count": 178,
   "metadata": {},
   "outputs": [
    {
     "name": "stdout",
     "output_type": "stream",
     "text": [
      "Preferences: [133.388  30.96   87.659  98.299  96.886]\n",
      "Ranking: [1. 5. 4. 2. 3.]\n"
     ]
    }
   ],
   "source": [
    "f_cocoso = methods.fCOCOSO()\n",
    "print(f'Preferences: {f_cocoso(matrix, fuzzy_weights, types)}')\n",
    "print(f'Ranking: {f_cocoso.rank()}')"
   ]
  },
  {
   "cell_type": "markdown",
   "metadata": {},
   "source": [
    "Within the COCOSO method we can also use different normalizations, as it was in the previous methods. In addition, we can modify the used normalization and defuzzification techniques. Default, the fCOCOSO method has set the normalization to `cocoso_normalization` and the defuzzification to the `mean_defuzzification`."
   ]
  },
  {
   "cell_type": "code",
   "execution_count": 179,
   "metadata": {},
   "outputs": [],
   "source": [
    "cocoso = {\n",
    "    'Sum': methods.fCOCOSO(utils.normalizations.sum_normalization),\n",
    "    'Max': methods.fCOCOSO(utils.normalizations.max_normalization),\n",
    "    'Linear': methods.fCOCOSO(utils.normalizations.linear_normalization),\n",
    "    'Minmax': methods.fCOCOSO(utils.normalizations.minmax_normalization),\n",
    "    'Vector': methods.fCOCOSO(utils.normalizations.vector_normalization),\n",
    "    'SAW': methods.fCOCOSO(utils.normalizations.saw_normalization)\n",
    "}"
   ]
  },
  {
   "cell_type": "code",
   "execution_count": 180,
   "metadata": {},
   "outputs": [],
   "source": [
    "results = {}\n",
    "for name, function in cocoso.items():\n",
    "    results[name] = function(matrix, fuzzy_weights, types)"
   ]
  },
  {
   "cell_type": "code",
   "execution_count": 181,
   "metadata": {},
   "outputs": [
    {
     "name": "stdout",
     "output_type": "stream",
     "text": [
      "Method          A1       A2       A3       A4        A5\n",
      "--------  --------  -------  -------  -------  --------\n",
      "Sum        1200.64   397.55   486.86   569.71   1201.88\n",
      "Max           5.07     2.44     2.06     2.27      5.66\n",
      "Linear       46.62    14.91    30.75    33.93     40.68\n",
      "Minmax      133.39    30.96    87.66    98.3      96.89\n",
      "Vector    21970     1432.57  3352.53  2207.49  12331.6\n",
      "SAW          65.58    21.9     13.78    17.84    102.23\n"
     ]
    }
   ],
   "source": [
    "print(tabulate([[name, *np.round(pref, 2)] for name, pref in results.items()],\n",
    "    headers=['Method'] + [f'A{i+1}' for i in range(10)]))"
   ]
  },
  {
   "cell_type": "code",
   "execution_count": 182,
   "metadata": {},
   "outputs": [
    {
     "name": "stdout",
     "output_type": "stream",
     "text": [
      "Method      A1    A2    A3    A4    A5\n",
      "--------  ----  ----  ----  ----  ----\n",
      "Sum          2     5     4     3     1\n",
      "Max          2     3     5     4     1\n",
      "Linear       1     5     4     3     2\n",
      "Minmax       1     5     4     2     3\n",
      "Vector       1     5     3     4     2\n",
      "SAW          2     3     5     4     1\n"
     ]
    }
   ],
   "source": [
    "print(tabulate([[name, *rank(pref, descending=True)] for name, pref in results.items()], \n",
    "    headers=['Method'] + [f'A{i+1}' for i in range(10)]))"
   ]
  },
  {
   "cell_type": "markdown",
   "metadata": {},
   "source": [
    "## Fuzzy CODAS"
   ]
  },
  {
   "cell_type": "code",
   "execution_count": 183,
   "metadata": {},
   "outputs": [
    {
     "name": "stdout",
     "output_type": "stream",
     "text": [
      "Preferences: [  0.3   -27.223  28.96   23.976 -26.013]\n",
      "Ranking: [3. 5. 1. 2. 4.]\n"
     ]
    }
   ],
   "source": [
    "f_codas = methods.fCODAS()\n",
    "print(f'Preferences: {f_codas(matrix, fuzzy_weights, types)}')\n",
    "print(f'Ranking: {f_codas.rank()}')"
   ]
  },
  {
   "cell_type": "markdown",
   "metadata": {},
   "source": [
    "Within the CODAS method we can also use different normalizations, as it was in the ARAS method. In addition, we can use different distance metrics to calculate the alternatives preference. Default the `distance_1` is the `euclidean_distance` and `distance_2` is the `hamming_distance`. While calling the fuzzy CODAS object, the `tau` parameter can be given, which is set to `0.02` as default. It is treated as the threshold parameter while calculating the relative assessment matrix. CODAS also assessed better alternatives with higher preferences."
   ]
  },
  {
   "cell_type": "code",
   "execution_count": 184,
   "metadata": {},
   "outputs": [],
   "source": [
    "codas = {\n",
    "    'Pair 1': methods.fCODAS(distance_1=utils.distances.euclidean_distance, distance_2=utils.distances.hamming_distance),\n",
    "    'Pair 2': methods.fCODAS(distance_1=utils.distances.weighted_euclidean_distance, distance_2=utils.distances.weighted_hamming_distance),\n",
    "    'Pair 3': methods.fCODAS(distance_1=utils.distances.vertex_distance, distance_2=utils.distances.lr_distance),\n",
    "    'Pair 4': methods.fCODAS(distance_1=utils.distances.mahdavi_distance, distance_2=utils.distances.lr_distance),\n",
    "    \n",
    "}"
   ]
  },
  {
   "cell_type": "markdown",
   "metadata": {},
   "source": [
    "Now, when we defined the CODAS object with different pairs of distances, we can calculate the results."
   ]
  },
  {
   "cell_type": "code",
   "execution_count": 185,
   "metadata": {},
   "outputs": [],
   "source": [
    "results = {}\n",
    "for name, function in codas.items():\n",
    "    results[name] = function(matrix, fuzzy_weights, types)"
   ]
  },
  {
   "cell_type": "code",
   "execution_count": 186,
   "metadata": {},
   "outputs": [
    {
     "name": "stdout",
     "output_type": "stream",
     "text": [
      "Method       A1       A2      A3      A4       A5\n",
      "--------  -----  -------  ------  ------  -------\n",
      "Pair 1     0.3    -27.22   28.96   23.98   -26.01\n",
      "Pair 2     0.55   -11.46   12.67    9.81   -11.57\n",
      "Pair 3    15.6   -161.23  148.14  142.27  -144.78\n",
      "Pair 4    15.8   -157.83  148.41  141.97  -148.34\n"
     ]
    }
   ],
   "source": [
    "print(tabulate([[name, *np.round(pref, 2)] for name, pref in results.items()],\n",
    "    headers=['Method'] + [f'A{i+1}' for i in range(10)]))"
   ]
  },
  {
   "cell_type": "markdown",
   "metadata": {},
   "source": [
    "We can see, that different distance metrics also have impact on the final results."
   ]
  },
  {
   "cell_type": "markdown",
   "metadata": {},
   "source": [
    "## Fuzzy COPRAS"
   ]
  },
  {
   "cell_type": "code",
   "execution_count": 187,
   "metadata": {},
   "outputs": [
    {
     "name": "stdout",
     "output_type": "stream",
     "text": [
      "Preferences: [0.804 0.736 0.993 1.    0.824]\n",
      "Ranking: [4. 5. 2. 1. 3.]\n"
     ]
    }
   ],
   "source": [
    "f_copras = methods.fCOPRAS()\n",
    "print(f'Preferences: {f_copras(matrix, fuzzy_weights, types)}')\n",
    "print(f'Ranking: {f_copras.rank()}')"
   ]
  },
  {
   "cell_type": "markdown",
   "metadata": {},
   "source": [
    "As in the case of the ARAS method, in the COPRAS technique, we can also modify the used normalization method. The `saw_normalization` is set as default. Similarly to previous methods, better alternatives are assessed with higher preferences."
   ]
  },
  {
   "cell_type": "code",
   "execution_count": 188,
   "metadata": {},
   "outputs": [],
   "source": [
    "copras = {\n",
    "    'Sum': methods.fCOPRAS(utils.normalizations.sum_normalization),\n",
    "    'Max': methods.fCOPRAS(utils.normalizations.max_normalization),\n",
    "    'Linear': methods.fCOPRAS(utils.normalizations.linear_normalization),\n",
    "    'Minmax': methods.fCOPRAS(utils.normalizations.minmax_normalization),\n",
    "    'Vector': methods.fCOPRAS(utils.normalizations.vector_normalization),\n",
    "    'SAW': methods.fCOPRAS(utils.normalizations.saw_normalization)\n",
    "}"
   ]
  },
  {
   "cell_type": "code",
   "execution_count": 189,
   "metadata": {},
   "outputs": [],
   "source": [
    "results = {}\n",
    "for name, function in copras.items():\n",
    "    results[name] = function(matrix, fuzzy_weights, types)"
   ]
  },
  {
   "cell_type": "code",
   "execution_count": 190,
   "metadata": {},
   "outputs": [
    {
     "name": "stdout",
     "output_type": "stream",
     "text": [
      "Method      A1    A2    A3    A4    A5\n",
      "--------  ----  ----  ----  ----  ----\n",
      "Sum       0.7   0.69  0.59  0.61  1\n",
      "Max       1     0.88  0.92  0.93  0\n",
      "Linear    0.73  0.67  0.59  0.59  1\n",
      "Minmax    0.97  0.93  0.94  1     1\n",
      "Vector    0.81  0.71  1     1     0.79\n",
      "SAW       0.8   0.74  0.99  1     0.82\n"
     ]
    }
   ],
   "source": [
    "print(tabulate([[name, *np.round(pref, 2)] for name, pref in results.items()],\n",
    "    headers=['Method'] + [f'A{i+1}' for i in range(10)]))"
   ]
  },
  {
   "cell_type": "markdown",
   "metadata": {},
   "source": [
    "## Fuzzy EDAS"
   ]
  },
  {
   "cell_type": "code",
   "execution_count": 191,
   "metadata": {},
   "outputs": [
    {
     "name": "stdout",
     "output_type": "stream",
     "text": [
      "Preferences: [0.691 0.292 0.698 0.74  0.468]\n",
      "Ranking: [3. 5. 2. 1. 4.]\n"
     ]
    }
   ],
   "source": [
    "f_edas = methods.fEDAS()\n",
    "print(f'Preferences: {f_edas(matrix, fuzzy_weights, types)}')\n",
    "print(f'Ranking: {f_edas.rank()}')"
   ]
  },
  {
   "cell_type": "markdown",
   "metadata": {},
   "source": [
    "In case of using the fuzzy EDAS method, we can modify the used defuzzification technique. Default, the fEDAS method has set the defuzzification to the `mean_defuzzification`. EDAS also evaluate better alternatives with higher preferences."
   ]
  },
  {
   "cell_type": "code",
   "execution_count": 192,
   "metadata": {},
   "outputs": [],
   "source": [
    "edas = {\n",
    "    'Mean': methods.fEDAS(defuzzify=utils.defuzzifications.mean_defuzzification),\n",
    "    'Mean Area': methods.fEDAS(defuzzify=utils.defuzzifications.mean_area_defuzzification),\n",
    "    'Graded Mean Average': methods.fEDAS(defuzzify=utils.defuzzifications.graded_mean_average_defuzzification),\n",
    "    'Weighted Mean': methods.fEDAS(defuzzify=utils.defuzzifications.weighted_mean_defuzzification)                                                                                            \n",
    "}\n"
   ]
  },
  {
   "cell_type": "markdown",
   "metadata": {},
   "source": [
    "After fEDAS object definition, we can calculate the results based on using different defuzzification methods."
   ]
  },
  {
   "cell_type": "code",
   "execution_count": 193,
   "metadata": {},
   "outputs": [],
   "source": [
    "results = {}\n",
    "for name, function in edas.items():\n",
    "    results[name] = function(matrix, fuzzy_weights, types)"
   ]
  },
  {
   "cell_type": "code",
   "execution_count": 194,
   "metadata": {},
   "outputs": [
    {
     "name": "stdout",
     "output_type": "stream",
     "text": [
      "Method                 A1    A2    A3    A4    A5\n",
      "-------------------  ----  ----  ----  ----  ----\n",
      "Mean                 0.69  0.29  0.7   0.74  0.47\n",
      "Mean Area            0.71  0.3   0.72  0.65  0.45\n",
      "Graded Mean Average  0.73  0.31  0.75  0.67  0.42\n",
      "Weighted Mean        0.71  0.3   0.72  0.65  0.45\n"
     ]
    }
   ],
   "source": [
    "print(tabulate([[name, *np.round(pref, 2)] for name, pref in results.items()],\n",
    "    headers=['Method'] + [f'A{i+1}' for i in range(10)]))"
   ]
  },
  {
   "cell_type": "markdown",
   "metadata": {},
   "source": [
    "It can be noticed that the results are highly similar while using different methods to defuzzify fuzzy numbers and obtain crisp values."
   ]
  },
  {
   "cell_type": "markdown",
   "metadata": {},
   "source": [
    "## Fuzzy MABAC"
   ]
  },
  {
   "cell_type": "code",
   "execution_count": 195,
   "metadata": {},
   "outputs": [
    {
     "name": "stdout",
     "output_type": "stream",
     "text": [
      "Preferences: [-0.061 -0.644  1.82   1.695 -0.549]\n",
      "Ranking: [3. 5. 1. 2. 4.]\n"
     ]
    }
   ],
   "source": [
    "f_mabac = methods.fMABAC()\n",
    "print(f'Preferences: {f_mabac(matrix, fuzzy_weights, types)}')\n",
    "print(f'Ranking: {f_mabac.rank()}')"
   ]
  },
  {
   "cell_type": "markdown",
   "metadata": {},
   "source": [
    "While using the fuzzy MABAC method, the normalization and defuzzification methods can be adjusted. Default, normalization is set to `minmax_normalization` and defuzzify to `mean_defuzzification`. MABAC classify better alternatives with higher preferences"
   ]
  },
  {
   "cell_type": "code",
   "execution_count": 196,
   "metadata": {},
   "outputs": [],
   "source": [
    "mabac = {\n",
    "    'Sum': methods.fMABAC(utils.normalizations.sum_normalization),\n",
    "    'Max': methods.fMABAC(utils.normalizations.max_normalization),\n",
    "    'Linear': methods.fMABAC(utils.normalizations.linear_normalization),\n",
    "    'Minmax': methods.fMABAC(utils.normalizations.minmax_normalization),\n",
    "    'Vector': methods.fMABAC(utils.normalizations.vector_normalization),\n",
    "    'SAW': methods.fMABAC(utils.normalizations.saw_normalization)\n",
    "}"
   ]
  },
  {
   "cell_type": "code",
   "execution_count": 197,
   "metadata": {},
   "outputs": [],
   "source": [
    "results = {}\n",
    "for name, function in mabac.items():\n",
    "    results[name] = function(matrix, fuzzy_weights, types)"
   ]
  },
  {
   "cell_type": "code",
   "execution_count": 198,
   "metadata": {},
   "outputs": [
    {
     "name": "stdout",
     "output_type": "stream",
     "text": [
      "Method       A1     A2     A3     A4     A5\n",
      "--------  -----  -----  -----  -----  -----\n",
      "Sum       -0.36  -0.52   0.61   0.6   -0.08\n",
      "Max        0.35  -0.79   1.57   1.34  -0.77\n",
      "Linear    -0.19  -1.49   1.53   1.31   0.16\n",
      "Minmax    -0.06  -0.64   1.82   1.7   -0.55\n",
      "Vector     0.43  -0.31  -0.93  -1.06   2.17\n",
      "SAW        0.79  -0.5   -2.02  -2.25   5.27\n"
     ]
    }
   ],
   "source": [
    "print(tabulate([[name, *np.round(pref, 2)] for name, pref in results.items()],\n",
    "    headers=['Method'] + [f'A{i+1}' for i in range(10)]))"
   ]
  },
  {
   "cell_type": "markdown",
   "metadata": {},
   "source": [
    "Again we can see, that different techniques used in the assessment have impact on the final result from the fuzzy MCDA method."
   ]
  },
  {
   "cell_type": "markdown",
   "metadata": {},
   "source": [
    "## Fuzzy MAIRCA"
   ]
  },
  {
   "cell_type": "code",
   "execution_count": 199,
   "metadata": {},
   "outputs": [
    {
     "name": "stdout",
     "output_type": "stream",
     "text": [
      "Preferences: [3.039 3.193 3.315 3.337 2.683]\n",
      "Ranking: [4. 3. 2. 1. 5.]\n"
     ]
    }
   ],
   "source": [
    "f_mairca = methods.fMAIRCA()\n",
    "print(f'Preferences: {f_mairca(matrix, fuzzy_weights, types)}')\n",
    "print(f'Ranking: {f_mairca.rank()}')"
   ]
  },
  {
   "cell_type": "markdown",
   "metadata": {},
   "source": [
    "Fuzzy MAIRCA method allows for adjusting the parameters responsible for the normalization and the distance measures. Default settings covers the `vector_normalization` and the `vertex_distance`. MAIRCA assigns higher preference values to better classified alternatives."
   ]
  },
  {
   "cell_type": "code",
   "execution_count": 200,
   "metadata": {},
   "outputs": [],
   "source": [
    "mairca = {\n",
    "    'Euclidean': methods.fMAIRCA(distance=utils.distances.euclidean_distance),\n",
    "    'Weighted Euclidean': methods.fMAIRCA(distance=utils.distances.weighted_euclidean_distance),\n",
    "    'Hamming': methods.fMAIRCA(distance=utils.distances.hamming_distance),\n",
    "    'Weighted Hamming': methods.fMAIRCA(distance=utils.distances.weighted_hamming_distance),\n",
    "    'Vertex': methods.fMAIRCA(distance=utils.distances.vertex_distance),\n",
    "    'Tran-Duckstein': methods.fMAIRCA(distance=utils.distances.tran_duckstein_distance),\n",
    "    'L-R': methods.fMAIRCA(distance=utils.distances.lr_distance),\n",
    "    'Mahdavi': methods.fMAIRCA(distance=utils.distances.mahdavi_distance)\n",
    "}\n"
   ]
  },
  {
   "cell_type": "code",
   "execution_count": 201,
   "metadata": {},
   "outputs": [],
   "source": [
    "results = {}\n",
    "for name, function in mairca.items():\n",
    "    results[name] = function(matrix, fuzzy_weights, types)"
   ]
  },
  {
   "cell_type": "code",
   "execution_count": 202,
   "metadata": {},
   "outputs": [
    {
     "name": "stdout",
     "output_type": "stream",
     "text": [
      "Method                 A1     A2     A3     A4    A5\n",
      "------------------  -----  -----  -----  -----  ----\n",
      "Euclidean            5.26   5.53   5.74   5.78  4.65\n",
      "Weighted Euclidean   3.05   3.21   3.34   3.37  2.7\n",
      "Hamming              8.96   9.41   9.78   9.85  7.91\n",
      "Weighted Hamming     3.01   3.17   3.3    3.33  2.67\n",
      "Vertex               3.04   3.19   3.31   3.34  2.68\n",
      "Tran-Duckstein       5.53   5.75   6.42   6.52  4.08\n",
      "L-R                 13.32  13.9   15.49  15.72  9.8\n",
      "Mahdavi              3.04   3.2    3.32   3.35  2.69\n"
     ]
    }
   ],
   "source": [
    "print(tabulate([[name, *np.round(pref, 2)] for name, pref in results.items()],\n",
    "    headers=['Method'] + [f'A{i+1}' for i in range(10)]))"
   ]
  },
  {
   "cell_type": "markdown",
   "metadata": {},
   "source": [
    "## Fuzzy MOORA"
   ]
  },
  {
   "cell_type": "code",
   "execution_count": 203,
   "metadata": {},
   "outputs": [
    {
     "name": "stdout",
     "output_type": "stream",
     "text": [
      "Preferences: [1.403 0.707 1.641 1.573 0.931]\n",
      "Ranking: [3. 5. 1. 2. 4.]\n"
     ]
    }
   ],
   "source": [
    "f_moora = methods.fMOORA()\n",
    "print(f'Preferences: {f_moora(matrix, fuzzy_weights, types)}')\n",
    "print(f'Ranking: {f_moora.rank()}')"
   ]
  },
  {
   "cell_type": "markdown",
   "metadata": {},
   "source": [
    "Fuzzy MOORA assigns higher preferences to better alternatives. It allows for the modification of the normalization technique, and the default method is set to `vector_normalization`."
   ]
  },
  {
   "cell_type": "code",
   "execution_count": 204,
   "metadata": {},
   "outputs": [],
   "source": [
    "moora = {\n",
    "    'Sum': methods.fMOORA(utils.normalizations.sum_normalization),\n",
    "    'Max': methods.fMOORA(utils.normalizations.max_normalization),\n",
    "    'Linear': methods.fMOORA(utils.normalizations.linear_normalization),\n",
    "    'Minmax': methods.fMOORA(utils.normalizations.minmax_normalization),\n",
    "    'Vector': methods.fMOORA(utils.normalizations.vector_normalization),\n",
    "    'SAW': methods.fMOORA(utils.normalizations.saw_normalization)\n",
    "}"
   ]
  },
  {
   "cell_type": "code",
   "execution_count": 205,
   "metadata": {},
   "outputs": [],
   "source": [
    "results = {}\n",
    "for name, function in moora.items():\n",
    "    results[name] = function(matrix, fuzzy_weights, types)"
   ]
  },
  {
   "cell_type": "code",
   "execution_count": 206,
   "metadata": {},
   "outputs": [
    {
     "name": "stdout",
     "output_type": "stream",
     "text": [
      "Method      A1    A2    A3    A4     A5\n",
      "--------  ----  ----  ----  ----  -----\n",
      "Sum       2.36  2.22  2.41  2.54   3.49\n",
      "Max       6.11  4.88  3.57  3.63  11\n",
      "Linear    5.18  3.85  1.22  1.23   8.37\n",
      "Minmax    2.16  1.66  2.03  2.5    8.54\n",
      "Vector    1.4   0.71  1.64  1.57   0.93\n",
      "SAW       3.97  2.68  4.74  4.66   3.27\n"
     ]
    }
   ],
   "source": [
    "print(tabulate([[name, *np.round(pref, 2)] for name, pref in results.items()],\n",
    "    headers=['Method'] + [f'A{i+1}' for i in range(10)]))"
   ]
  },
  {
   "cell_type": "markdown",
   "metadata": {},
   "source": [
    "## Fuzzy OCRA"
   ]
  },
  {
   "cell_type": "code",
   "execution_count": 207,
   "metadata": {},
   "outputs": [
    {
     "name": "stdout",
     "output_type": "stream",
     "text": [
      "Preferences: [12.283  0.     9.317  7.306  3.433]\n",
      "Ranking: [1. 5. 2. 3. 4.]\n"
     ]
    }
   ],
   "source": [
    "f_ocra = methods.fOCRA()\n",
    "print(f'Preferences: {f_ocra(matrix, fuzzy_weights, types)}')\n",
    "print(f'Ranking: {f_ocra.rank()}')"
   ]
  },
  {
   "cell_type": "markdown",
   "metadata": {},
   "source": [
    "OCRA has one parameter that can be changed during the evaluation. It is the defuzzification method, which default is set to `mean_defuzzification`. OCRA also assess better alternatives with higher preference values."
   ]
  },
  {
   "cell_type": "code",
   "execution_count": 208,
   "metadata": {},
   "outputs": [],
   "source": [
    "ocra = {\n",
    "    'Mean': methods.fOCRA(defuzzify=utils.defuzzifications.mean_defuzzification),\n",
    "    'Mean Area': methods.fOCRA(defuzzify=utils.defuzzifications.mean_area_defuzzification),\n",
    "    'Graded Mean Average': methods.fOCRA(defuzzify=utils.defuzzifications.graded_mean_average_defuzzification),\n",
    "    'Weighted Mean': methods.fOCRA(defuzzify=utils.defuzzifications.weighted_mean_defuzzification)                                                                                            \n",
    "}"
   ]
  },
  {
   "cell_type": "code",
   "execution_count": 209,
   "metadata": {},
   "outputs": [],
   "source": [
    "results = {}\n",
    "for name, function in ocra.items():\n",
    "    results[name] = function(matrix, fuzzy_weights, types)"
   ]
  },
  {
   "cell_type": "code",
   "execution_count": 210,
   "metadata": {},
   "outputs": [
    {
     "name": "stdout",
     "output_type": "stream",
     "text": [
      "Method                  A1    A2    A3    A4    A5\n",
      "-------------------  -----  ----  ----  ----  ----\n",
      "Mean                 12.28     0  9.32  7.31  3.43\n",
      "Mean Area            12.28     0  9.3   7.17  3.26\n",
      "Graded Mean Average  12.27     0  9.28  7.03  3.09\n",
      "Weighted Mean        12.28     0  9.3   7.17  3.26\n"
     ]
    }
   ],
   "source": [
    "print(tabulate([[name, *np.round(pref, 2)] for name, pref in results.items()],\n",
    "    headers=['Method'] + [f'A{i+1}' for i in range(10)]))"
   ]
  },
  {
   "cell_type": "markdown",
   "metadata": {},
   "source": [
    "## Fuzzy SPOTIS"
   ]
  },
  {
   "cell_type": "code",
   "execution_count": 211,
   "metadata": {},
   "outputs": [
    {
     "name": "stdout",
     "output_type": "stream",
     "text": [
      "Preferences: [0.504 0.415 0.546]\n",
      "Ranking: [2. 3. 1.]\n"
     ]
    }
   ],
   "source": [
    "spotis_matrix = np.array([\n",
    "    [[0.6, 0.8, 1.0], [0.6, 0.8, 1.0], [0.4, 0.6, 0.8], [0.2, 0.4, 0.6], [0.8, 1.0, 1.0]], \n",
    "    [[0.4, 0.6, 0.8], [0.6, 0.8, 1.0], [0.4, 0.6, 0.8], [0.8, 1.0, 1.0], [0.2, 0.4, 0.6]], \n",
    "    [[0.8, 1.0, 1.0], [0.4, 0.6, 0.8], [0.6, 0.8, 1.0], [0.0, 0.2, 0.4], [0.0, 0.2, 0.4]] \n",
    "])\n",
    "\n",
    "spotis_weights = np.array([0.364, 0.272, 0.203, 0.093, 0.068])\n",
    "spotis_types = np.array([-1, 1, 1, 1, 1])\n",
    "spotis_bounds = np.array([[0.0, 1.0]] * 5)\n",
    "\n",
    "f_spotis = methods.fSPOTIS()\n",
    "print(f'Preferences: {f_spotis(spotis_matrix, spotis_weights, spotis_types, spotis_bounds)}')\n",
    "print(f'Ranking: {f_spotis.rank()}')"
   ]
  },
  {
   "cell_type": "markdown",
   "metadata": {},
   "source": [
    "SPOTIS had normalization function by default set to `None`. However, this can be changed by passing as a normalization parameter one of the techniques included in the library. The SPOTIS method also uses a `bound` parameter which is used to assure resistance to the Rank Reversal (RR) phenomenon during the calculations. The SPOTIS method operates only on criteria weights declared in a crisp form."
   ]
  },
  {
   "cell_type": "code",
   "execution_count": 212,
   "metadata": {},
   "outputs": [
    {
     "data": {
      "text/plain": [
       "array([[3, 9],\n",
       "       [2, 9],\n",
       "       [1, 9]])"
      ]
     },
     "execution_count": 212,
     "metadata": {},
     "output_type": "execute_result"
    }
   ],
   "source": [
    "spotis_bounds = f_spotis.make_bounds(matrix)\n",
    "spotis_bounds"
   ]
  },
  {
   "cell_type": "markdown",
   "metadata": {},
   "source": [
    "In the Fuzzy SPOTIS method, function `make_bounds` is implemented to allow users automatically generate the bounds for the examined decision matrix."
   ]
  },
  {
   "cell_type": "markdown",
   "metadata": {},
   "source": [
    "## Fuzzy TOPSIS"
   ]
  },
  {
   "cell_type": "code",
   "execution_count": 213,
   "metadata": {},
   "outputs": [
    {
     "name": "stdout",
     "output_type": "stream",
     "text": [
      "Preferences: [0.564 0.565 0.552 0.551 0.562]\n",
      "Ranking: [2. 1. 4. 5. 3.]\n"
     ]
    }
   ],
   "source": [
    "f_topsis = methods.fTOPSIS()\n",
    "print(f'Preferences: {f_topsis(matrix, fuzzy_weights, types)}')\n",
    "print(f'Ranking: {f_topsis.rank()}')"
   ]
  },
  {
   "cell_type": "markdown",
   "metadata": {},
   "source": [
    "TOPSIS technique allows for adjusting the parameters responsible for the normalization and the distance calculation. Default methods are set to `linear_normalization` and `vertex_distance`. TOPSIS assures, that better alternatives have higher preferences values. "
   ]
  },
  {
   "cell_type": "code",
   "execution_count": 214,
   "metadata": {},
   "outputs": [],
   "source": [
    "topsis = {\n",
    "    'Sum': methods.fTOPSIS(utils.normalizations.sum_normalization),\n",
    "    'Max': methods.fTOPSIS(utils.normalizations.max_normalization),\n",
    "    'Linear': methods.fTOPSIS(utils.normalizations.linear_normalization),\n",
    "    'Minmax': methods.fTOPSIS(utils.normalizations.minmax_normalization),\n",
    "    'Vector': methods.fTOPSIS(utils.normalizations.vector_normalization),\n",
    "    'SAW': methods.fTOPSIS(utils.normalizations.saw_normalization)\n",
    "}"
   ]
  },
  {
   "cell_type": "code",
   "execution_count": 215,
   "metadata": {},
   "outputs": [],
   "source": [
    "results = {}\n",
    "for name, function in topsis.items():\n",
    "    results[name] = function(matrix, fuzzy_weights, types)"
   ]
  },
  {
   "cell_type": "code",
   "execution_count": 216,
   "metadata": {},
   "outputs": [
    {
     "name": "stdout",
     "output_type": "stream",
     "text": [
      "Method      A1    A2    A3    A4    A5\n",
      "--------  ----  ----  ----  ----  ----\n",
      "Sum       0.67  0.61  0.61  0.59  0.64\n",
      "Max       0.57  0.57  0.56  0.56  0.52\n",
      "Linear    0.56  0.57  0.55  0.55  0.56\n",
      "Minmax    0.56  0.55  0.55  0.55  0.56\n",
      "Vector    0.65  0.62  0.68  0.66  0.61\n",
      "SAW       0.56  0.56  0.57  0.57  0.54\n"
     ]
    }
   ],
   "source": [
    "print(tabulate([[name, *np.round(pref, 2)] for name, pref in results.items()],\n",
    "    headers=['Method'] + [f'A{i+1}' for i in range(10)]))"
   ]
  },
  {
   "cell_type": "markdown",
   "metadata": {},
   "source": [
    "## Fuzzy VIKOR"
   ]
  },
  {
   "cell_type": "code",
   "execution_count": 217,
   "metadata": {},
   "outputs": [
    {
     "name": "stdout",
     "output_type": "stream",
     "text": [
      "PREFERENCES\n",
      "S: [7.696 8.478 5.966 6.382 8.454]\n",
      "R: [5.    4.406 3.344 3.781 6.214]\n",
      "Q: [0.156 0.141 0.003 0.043 0.255]\n",
      "RANKINGS\n",
      "S: [3. 5. 1. 2. 4.]\n",
      "R: [4. 3. 1. 2. 5.]\n",
      "Q: [4. 3. 1. 2. 5.]\n"
     ]
    }
   ],
   "source": [
    "f_vikor = methods.fVIKOR()\n",
    "res = f_vikor(matrix, fuzzy_weights, types)\n",
    "print('PREFERENCES')\n",
    "print(f'S: {res[0]}')\n",
    "print(f'R: {res[1]}')\n",
    "print(f'Q: {res[2]}')\n",
    "\n",
    "rank_vikor = f_vikor.rank()\n",
    "print('RANKINGS')\n",
    "print(f'S: {rank_vikor[0]}')\n",
    "print(f'R: {rank_vikor[1]}')\n",
    "print(f'Q: {rank_vikor[2]}')\n",
    "\n"
   ]
  },
  {
   "cell_type": "markdown",
   "metadata": {},
   "source": [
    "VIKOR method is characterized by returning three assessment vectors (S, R, Q). The difference between them lays in the way how they are calculated in the final phase of the evaluation. The VIKOR method performance can be adjusted with the defuzzification method, and the default settings for this parameter is `mean_area_defuzzification`. Moreover, while calling the fVIKOR object, the `v` parameter can be given, which translates how the weight of the strategy will behave. It is set to `0.5` as default. VIKOR ranking can be calculated by sorting the preferences in the ascending order, so in the `rank` method, the parameter should be sey as `descending=False`."
   ]
  },
  {
   "cell_type": "code",
   "execution_count": 218,
   "metadata": {},
   "outputs": [],
   "source": [
    "vikor = {\n",
    "    'Mean': methods.fVIKOR(defuzzify=utils.defuzzifications.mean_defuzzification),\n",
    "    'Mean Area': methods.fVIKOR(defuzzify=utils.defuzzifications.mean_area_defuzzification),\n",
    "    'Graded Mean Average': methods.fVIKOR(defuzzify=utils.defuzzifications.graded_mean_average_defuzzification),\n",
    "    'Weighted Mean': methods.fVIKOR(defuzzify=utils.defuzzifications.weighted_mean_defuzzification)                                                                                            \n",
    "}"
   ]
  },
  {
   "cell_type": "code",
   "execution_count": 219,
   "metadata": {},
   "outputs": [],
   "source": [
    "results = {}\n",
    "for name, function in vikor.items():\n",
    "    results[name] = function(matrix, fuzzy_weights, types)"
   ]
  },
  {
   "cell_type": "code",
   "execution_count": 220,
   "metadata": {},
   "outputs": [
    {
     "name": "stdout",
     "output_type": "stream",
     "text": [
      "Method                 A1    A2    A3    A4    A5\n",
      "-------------------  ----  ----  ----  ----  ----\n",
      "Mean                 7.85  8.6   6.13  6.48  8.5\n",
      "Mean Area            7.7   8.48  5.97  6.38  8.45\n",
      "Graded Mean Average  7.54  8.36  5.8   6.28  8.4\n",
      "Weighted Mean        7.7   8.48  5.97  6.38  8.45\n"
     ]
    }
   ],
   "source": [
    "print(tabulate([[name, *np.round(pref[0], 2)] for name, pref in results.items()],\n",
    "    headers=['Method'] + [f'A{i+1}' for i in range(10)]))"
   ]
  },
  {
   "cell_type": "markdown",
   "metadata": {},
   "source": [
    "## Fuzzy WASPAS"
   ]
  },
  {
   "cell_type": "code",
   "execution_count": 221,
   "metadata": {},
   "outputs": [
    {
     "name": "stdout",
     "output_type": "stream",
     "text": [
      "Preferences: [0.514 0.487 0.631 0.614 0.545]\n",
      "Ranking: [4. 5. 1. 2. 3.]\n"
     ]
    }
   ],
   "source": [
    "f_waspas = methods.fWASPAS()\n",
    "print(f'Preferences: {f_waspas(matrix, crisp_weights, types)}')\n",
    "print(f'Ranking: {f_waspas.rank()}')"
   ]
  },
  {
   "cell_type": "markdown",
   "metadata": {},
   "source": [
    "By default, the WASPAS methods use `waspas_normalization` and `mean_defuzzification` methods in calculations. This could be changed by passing other methods from `normalizations` and `defuzzifications` modules."
   ]
  },
  {
   "cell_type": "markdown",
   "metadata": {},
   "source": [
    "## Fuzzy WPM"
   ]
  },
  {
   "cell_type": "code",
   "execution_count": 222,
   "metadata": {},
   "outputs": [
    {
     "name": "stdout",
     "output_type": "stream",
     "text": [
      "Preferences: [5.096 4.729 4.185 4.041 7.552]\n",
      "Ranking: [2. 3. 4. 5. 1.]\n"
     ]
    }
   ],
   "source": [
    "f_wpm = methods.fWPM()\n",
    "print(f'Preferences: {f_wpm(matrix, crisp_weights)}')\n",
    "print(f'Ranking: {f_wpm.rank()}')"
   ]
  },
  {
   "cell_type": "markdown",
   "metadata": {},
   "source": [
    "By default, the WPM methods use `mean_defuzzification` method in calculations to calculate crisp values from Triangular Fuzzy Numbers. The data normalization is set to `None`, but it could be changed to standardize the input data. Moreover, the WPM method does not need the criteria types in the calculation process."
   ]
  },
  {
   "cell_type": "markdown",
   "metadata": {},
   "source": [
    "## Fuzzy WSM"
   ]
  },
  {
   "cell_type": "code",
   "execution_count": 223,
   "metadata": {},
   "outputs": [
    {
     "name": "stdout",
     "output_type": "stream",
     "text": [
      "Preferences: [5.333 5.2   4.4   4.333 7.6  ]\n",
      "Ranking: [2. 3. 4. 5. 1.]\n"
     ]
    }
   ],
   "source": [
    "f_wsm = methods.fWSM()\n",
    "print(f'Preferences: {f_wsm(matrix, crisp_weights)}')\n",
    "print(f'Ranking: {f_wsm.rank()}')"
   ]
  },
  {
   "cell_type": "markdown",
   "metadata": {},
   "source": [
    "Similarly to the WPM method, WSM use `mean_defuzzification` technique and normalization is also set to `None`. Also, the WSM method does not use the criteria types in the calculation process."
   ]
  },
  {
   "cell_type": "markdown",
   "metadata": {},
   "source": [
    "# Correlation\n",
    "\n",
    "Correlation coefficients can be used to indicate the results similarity. They are based on preference or ranking comparison obtained from the multi-criteria assessment. In the library there are available 4 different measures and the example of their usage is presented below. The `pearson_coef` and `spearman_coef` are ment to be used to compare the preference values, while `weighted_spearman_coef` and `ws_rank_similarity_coef` can be used to compare rankings."
   ]
  },
  {
   "cell_type": "markdown",
   "metadata": {},
   "source": [
    "### Example 1\n",
    "Similar preferences"
   ]
  },
  {
   "cell_type": "code",
   "execution_count": 224,
   "metadata": {},
   "outputs": [
    {
     "name": "stdout",
     "output_type": "stream",
     "text": [
      "Spearman: 0.9588593677597358\n",
      "Pearson: 0.9588593677597358\n"
     ]
    }
   ],
   "source": [
    "x = np.array([0.69, 0.53, 0.76, 0.81, 0.8])\n",
    "y = np.array([0.66, 0.54, 0.71, 0.84, 0.77])\n",
    "\n",
    "print(f'Spearman: {corrs.spearman_coef(x, y)}')\n",
    "print(f'Pearson: {corrs.pearson_coef(x, y)}')"
   ]
  },
  {
   "cell_type": "markdown",
   "metadata": {},
   "source": [
    "### Example 2\n",
    "Different preferences"
   ]
  },
  {
   "cell_type": "code",
   "execution_count": 225,
   "metadata": {},
   "outputs": [
    {
     "name": "stdout",
     "output_type": "stream",
     "text": [
      "Spearman: 0.225511293634533\n",
      "Pearson: 0.225511293634533\n"
     ]
    }
   ],
   "source": [
    "x = np.array([0.75, 0.39, 0.86, 0.51, 0.63])\n",
    "y = np.array([0.66, 0.54, 0.71, 0.84, 0.77])\n",
    "\n",
    "print(f'Spearman: {corrs.spearman_coef(x, y)}')\n",
    "print(f'Pearson: {corrs.pearson_coef(x, y)}')"
   ]
  },
  {
   "cell_type": "markdown",
   "metadata": {},
   "source": [
    "### Example 3\n",
    "Similar rankings"
   ]
  },
  {
   "cell_type": "code",
   "execution_count": 226,
   "metadata": {},
   "outputs": [
    {
     "name": "stdout",
     "output_type": "stream",
     "text": [
      "Weighted Spearman: 0.85\n",
      "WS rank similarity: 0.7916666666666667\n"
     ]
    }
   ],
   "source": [
    "x = np.array([1, 2, 3, 4, 5])\n",
    "y = np.array([2, 1, 3, 4, 5])\n",
    "\n",
    "print(f'Weighted Spearman: {corrs.weighted_spearman_coef(x, y)}')\n",
    "print(f'WS rank similarity: {corrs.ws_rank_similarity_coef(x, y)}')"
   ]
  },
  {
   "cell_type": "markdown",
   "metadata": {},
   "source": [
    "### Example 4\n",
    "Different rankings"
   ]
  },
  {
   "cell_type": "code",
   "execution_count": 227,
   "metadata": {},
   "outputs": [
    {
     "name": "stdout",
     "output_type": "stream",
     "text": [
      "Weighted Spearman: 0.050000000000000044\n",
      "WS rank similarity: 0.46354166666666663\n"
     ]
    }
   ],
   "source": [
    "x = np.array([1, 2, 3, 4, 5])\n",
    "y = np.array([4, 2, 1, 5, 3])\n",
    "\n",
    "print(f'Weighted Spearman: {corrs.weighted_spearman_coef(x, y)}')\n",
    "print(f'WS rank similarity: {corrs.ws_rank_similarity_coef(x, y)}')"
   ]
  },
  {
   "cell_type": "markdown",
   "metadata": {},
   "source": [
    "## Triangular Fuzzy Numbers"
   ]
  },
  {
   "cell_type": "markdown",
   "metadata": {},
   "source": [
    "The pyFDM package offers a possibility to use basic mathematical operations for Triangular Fuzzy Numbers, thus making the calculations under incomplete knowledge."
   ]
  },
  {
   "cell_type": "code",
   "execution_count": 228,
   "metadata": {},
   "outputs": [
    {
     "name": "stdout",
     "output_type": "stream",
     "text": [
      "Addition result: (3, 5, 7)\n",
      "Subtraction result: (-3, -1, 1)\n",
      "Multiplication result: (2, 6, 12)\n",
      "Division result: (0.25, 0.6666666666666666, 1.5)\n"
     ]
    }
   ],
   "source": [
    "tfn1 = TFN(1, 2, 3)\n",
    "tfn2 = TFN(2, 3, 4)\n",
    "\n",
    "result_addition = tfn1 + tfn2\n",
    "print(f'Addition result: {result_addition}')\n",
    "\n",
    "result_subtraction = tfn1 - tfn2\n",
    "print(f'Subtraction result: {result_subtraction}')\n",
    "\n",
    "result_multiplication = tfn1 * tfn2\n",
    "print(f'Multiplication result: {result_multiplication}')\n",
    "\n",
    "result_division = tfn1 / tfn2\n",
    "print(f'Division result: {result_division}')"
   ]
  },
  {
   "cell_type": "markdown",
   "metadata": {},
   "source": [
    "Calculating the membership degree for given TFN is also implemented. The calculations could be done for array of values or for single value. "
   ]
  },
  {
   "cell_type": "code",
   "execution_count": 229,
   "metadata": {},
   "outputs": [
    {
     "name": "stdout",
     "output_type": "stream",
     "text": [
      "Single value membership degree: 0.5\n",
      "Array of values membership degree: [0.5 0.7 0.9 0.9 0.7 0.5]\n"
     ]
    }
   ],
   "source": [
    "tfn = TFN(1, 2, 3)\n",
    "\n",
    "# single value\n",
    "x_value = 2.5\n",
    "membership_value = tfn.membership_function(x_value)\n",
    "print(f'Single value membership degree: {membership_value}')\n",
    "\n",
    "# array of values\n",
    "x_array = np.linspace(1.5, 2.5, 6)\n",
    "membership_array = tfn.membership_function(x_array)\n",
    "print(f'Array of values membership degree: {membership_array}')"
   ]
  },
  {
   "cell_type": "markdown",
   "metadata": {},
   "source": [
    "Comparing the TFN values is possible, with indicating the inclusion of TFNs."
   ]
  },
  {
   "cell_type": "code",
   "execution_count": 230,
   "metadata": {},
   "outputs": [
    {
     "name": "stdout",
     "output_type": "stream",
     "text": [
      "TFNs equality: True\n",
      "TFNs inclusion: True\n"
     ]
    }
   ],
   "source": [
    "# equality check\n",
    "tfn1 = TFN(1, 2, 3)\n",
    "tfn2 = TFN(1, 2, 3)\n",
    "\n",
    "print(f'TFNs equality: {tfn1 == tfn2}')\n",
    "\n",
    "# inclusion check\n",
    "tfn1 = TFN(1, 2, 3)\n",
    "tfn2 = TFN(0, 1, 4)\n",
    "\n",
    "print(f'TFNs inclusion: {tfn1.is_included_in(tfn2)}')"
   ]
  },
  {
   "cell_type": "markdown",
   "metadata": {},
   "source": [
    "S-norm and T-norm operators are implemented. They allow to analyze the `OR` and `AND` fuzzy operators on Triangular Fuzzy Numbers."
   ]
  },
  {
   "cell_type": "code",
   "execution_count": 231,
   "metadata": {},
   "outputs": [
    {
     "name": "stdout",
     "output_type": "stream",
     "text": [
      "S-norm operation: (2, 3, 4)\n",
      "T-norm operation: (1, 2, 3)\n"
     ]
    }
   ],
   "source": [
    "# Fuzzy OR operation (S-norm)\n",
    "tfn1 = TFN(1, 2, 3)\n",
    "tfn2 = TFN(2, 3, 4)\n",
    "\n",
    "result_s_norm = tfn1.s_norm(tfn2)\n",
    "print(f'S-norm operation: {result_s_norm}')\n",
    "\n",
    "# Fuzzy AND operation (T-norm)\n",
    "tfn1 = TFN(1, 2, 3)\n",
    "tfn2 = TFN(2, 3, 4)\n",
    "\n",
    "result_t_norm = tfn1.t_norm(tfn2)\n",
    "print(f'T-norm operation: {result_t_norm}')"
   ]
  },
  {
   "cell_type": "markdown",
   "metadata": {},
   "source": [
    "## TFN visualization"
   ]
  },
  {
   "cell_type": "markdown",
   "metadata": {},
   "source": [
    "The visualization of Triangular Fuzzy Numbers is handled in the pyFDM version `1.1.0`. "
   ]
  },
  {
   "cell_type": "code",
   "execution_count": 232,
   "metadata": {},
   "outputs": [
    {
     "data": {
      "image/png": "[encoded data removed]",
      "text/plain": [
       "<Figure size 432x288 with 1 Axes>"
      ]
     },
     "metadata": {
      "needs_background": "light"
     },
     "output_type": "display_data"
    }
   ],
   "source": [
    "# Example visualization of single TFN\n",
    "single_tfn_plot(2, 4, 6)"
   ]
  },
  {
   "cell_type": "code",
   "execution_count": 233,
   "metadata": {},
   "outputs": [
    {
     "data": {
      "image/png": "[encoded data removed]",
      "text/plain": [
       "<Figure size 432x288 with 1 Axes>"
      ]
     },
     "metadata": {
      "needs_background": "light"
     },
     "output_type": "display_data"
    }
   ],
   "source": [
    "# Example visualization of TFN membership degree\n",
    "tfn_membership_plot(2, 4, 6, 3)"
   ]
  },
  {
   "cell_type": "code",
   "execution_count": 234,
   "metadata": {},
   "outputs": [
    {
     "data": {
      "image/png": "[encoded data removed]",
      "text/plain": [
       "<Figure size 864x576 with 3 Axes>"
      ]
     },
     "metadata": {
      "needs_background": "light"
     },
     "output_type": "display_data"
    }
   ],
   "source": [
    "# Example visualization of TFN criteria plot\n",
    "tfn_criteria_plot([[1, 4, 7], [1, 6, 7], [1, 2, 7]])"
   ]
  },
  {
   "cell_type": "code",
   "execution_count": 235,
   "metadata": {},
   "outputs": [
    {
     "data": {
      "image/png": "[encoded data removed]",
      "text/plain": [
       "<Figure size 432x288 with 1 Axes>"
      ]
     },
     "metadata": {
      "needs_background": "light"
     },
     "output_type": "display_data"
    }
   ],
   "source": [
    "# Example visualization of S-norm TFN plot\n",
    "s_norm_tfn_plot([[1, 4, 7], [1, 6, 7], [1, 2, 7]])"
   ]
  }
 ],
 "metadata": {
  "kernelspec": {
   "display_name": "Python 3.10.5 64-bit",
   "language": "python",
   "name": "python3"
  },
  "language_info": {
   "codemirror_mode": {
    "name": "ipython",
    "version": 3
   },
   "file_extension": ".py",
   "mimetype": "text/x-python",
   "name": "python",
   "nbconvert_exporter": "python",
   "pygments_lexer": "ipython3",
   "version": "3.10.5"
  },
  "orig_nbformat": 4,
  "vscode": {
   "interpreter": {
    "hash": "eabca979b0553fa6d87e9a00c352604d3b703d4afc9641643dd42376492b80f6"
   }
  }
 },
 "nbformat": 4,
 "nbformat_minor": 2
}
